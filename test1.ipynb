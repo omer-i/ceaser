{
 "cells": [
  {
   "cell_type": "code",
   "execution_count": 49,
   "metadata": {},
   "outputs": [],
   "source": [
    "import string\n",
    "from collections import OrderedDict\n",
    "def Sorted_Dic(encrypted_message):\n",
    "    dicenc = {}\n",
    "    for c in encrypted_message:\n",
    "        if c.isalpha():\n",
    "          if c in dicenc:\n",
    "            dicenc[c]+= 1\n",
    "          else:\n",
    "            dicenc[c] = 1\n",
    "\n",
    "    sorted_dic = dict(sorted(dicenc.items(), key=lambda item: item[1], reverse=True))\n",
    "    return sorted_dic\n",
    "\n",
    "encrypted_message = \"pm ol ohk hufaopun jvumpkluaphs av zhf, ol dyval pa pu jpwoly, aoha pz, if zv johunpun aol vykly vm aol slaalyz vm aol hswohila, aoha uva h dvyk jvbsk il thkl vba.\"\n",
    "sorted_dic = Sorted_Dic(encrypted_message)"
   ]
  },
  {
   "cell_type": "code",
   "execution_count": 50,
   "metadata": {},
   "outputs": [],
   "source": [
    "commons = list(sorted_dic.items())"
   ]
  },
  {
   "cell_type": "code",
   "execution_count": 51,
   "metadata": {},
   "outputs": [],
   "source": [
    "ind = -1"
   ]
  },
  {
   "cell_type": "code",
   "execution_count": 52,
   "metadata": {},
   "outputs": [],
   "source": [
    "def print_that(text, move_with):\n",
    "    key = string.ascii_lowercase[move_with:] + string.ascii_lowercase[:move_with]\n",
    "    str_trans = str.maketrans(string.ascii_lowercase, key)\n",
    "    real_text = encrypted_message.translate(str_trans)\n",
    "    print(move_with, real_text)"
   ]
  },
  {
   "cell_type": "code",
   "execution_count": 54,
   "metadata": {},
   "outputs": [
    {
     "name": "stdout",
     "output_type": "stream",
     "text": [
      "19 if he had anything confidential to say, he wrote it in cipher, that is, by so changing the order of the letters of the alphabet, that not a word could be made out.\n"
     ]
    }
   ],
   "source": [
    "ind+= 1\n",
    "move_with = (ord('e')-ord(commons[ind][0])) % 26\n",
    "print_that(encrypted_message,move_with)"
   ]
  }
 ],
 "metadata": {
  "kernelspec": {
   "display_name": "Python 3",
   "language": "python",
   "name": "python3"
  },
  "language_info": {
   "codemirror_mode": {
    "name": "ipython",
    "version": 3
   },
   "file_extension": ".py",
   "mimetype": "text/x-python",
   "name": "python",
   "nbconvert_exporter": "python",
   "pygments_lexer": "ipython3",
   "version": "3.12.3"
  }
 },
 "nbformat": 4,
 "nbformat_minor": 2
}
